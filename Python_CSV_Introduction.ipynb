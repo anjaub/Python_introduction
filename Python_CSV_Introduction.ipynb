{
 "cells": [
  {
   "cell_type": "code",
   "execution_count": 12,
   "metadata": {},
   "outputs": [],
   "source": [
    "import csv\n",
    "import urllib.request"
   ]
  },
  {
   "cell_type": "code",
   "execution_count": 8,
   "metadata": {},
   "outputs": [],
   "source": [
    "url = \"https://raw.githubusercontent.com/foerstner-lab/Bits_and_pieces_for_the_carpentries_workshops/master/plain_text_file_examples/DOIs_PMIDs_PubYears.tsv\"\n",
    "file = \"DOIs_PMIDs_PubYears.tsv\""
   ]
  },
  {
   "cell_type": "code",
   "execution_count": 11,
   "metadata": {},
   "outputs": [
    {
     "data": {
      "text/plain": [
       "('DOIs_PMIDs_PubYears.tsv', <http.client.HTTPMessage at 0x1044aea90>)"
      ]
     },
     "execution_count": 11,
     "metadata": {},
     "output_type": "execute_result"
    }
   ],
   "source": [
    "urllib.request.urlretrieve(url, file)"
   ]
  },
  {
   "cell_type": "code",
   "execution_count": 18,
   "metadata": {},
   "outputs": [
    {
     "name": "stdout",
     "output_type": "stream",
     "text": [
      "['DOI', 'PMID', 'Year']\n",
      "['    10.1007/164_2019_213', '31119463', '2019']\n",
      "['10.1371/journal.pone.0212463', '30779778', '2019']\n",
      "['10.21105/joss.00885', '310809422018', '2018']\n",
      "['10.1371/journal.pone.0215137', '30973910', '2018']\n",
      "['1371/journal.pcbi.1006473 ', '30763318', '2019']\n"
     ]
    }
   ],
   "source": [
    "fh = open(file)\n",
    "for line in csv.reader(fh, delimiter=\"\\t\"):\n",
    "    print(line)"
   ]
  },
  {
   "cell_type": "code",
   "execution_count": 19,
   "metadata": {},
   "outputs": [
    {
     "name": "stdout",
     "output_type": "stream",
     "text": [
      "Year\n",
      "2019\n",
      "2019\n",
      "2018\n",
      "2018\n",
      "2019\n"
     ]
    }
   ],
   "source": [
    "fh = open(file)\n",
    "for line in csv.reader(fh, delimiter=\"\\t\"):\n",
    "    print(line[-1])"
   ]
  },
  {
   "cell_type": "code",
   "execution_count": null,
   "metadata": {},
   "outputs": [],
   "source": []
  }
 ],
 "metadata": {
  "kernelspec": {
   "display_name": "Python 3",
   "language": "python",
   "name": "python3"
  },
  "language_info": {
   "codemirror_mode": {
    "name": "ipython",
    "version": 3
   },
   "file_extension": ".py",
   "mimetype": "text/x-python",
   "name": "python",
   "nbconvert_exporter": "python",
   "pygments_lexer": "ipython3",
   "version": "3.7.3"
  }
 },
 "nbformat": 4,
 "nbformat_minor": 2
}
